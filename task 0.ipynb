{
 "cells": [
  {
   "cell_type": "markdown",
   "id": "7d962e73",
   "metadata": {},
   "source": [
    "# Задание c использованием конструктива if else"
   ]
  },
  {
   "cell_type": "markdown",
   "id": "aab8a0c7",
   "metadata": {},
   "source": [
    "## Упражнение 1. Чет или нечет?\n",
    "Напишите программу, запрашивающую у пользователя целое число и вы-водящую на экран информацию о том, является введенное число четнымили нечетным.\n"
   ]
  },
  {
   "cell_type": "code",
   "execution_count": 36,
   "id": "a8f388a9",
   "metadata": {},
   "outputs": [
    {
     "name": "stdout",
     "output_type": "stream",
     "text": [
      "Введите целое число: -1\n",
      "Число -1 нечетное.\n"
     ]
    }
   ],
   "source": [
    "def check_even_odd(number):\n",
    "    if number % 2 == 0:\n",
    "        return f\"Число {number} четное.\"\n",
    "    else:\n",
    "        return f\"Число {number} нечетное.\"\n",
    "\n",
    "try:\n",
    "    user_input = int(input(\"Введите целое число: \"))\n",
    "    print(check_even_odd(user_input))\n",
    "except ValueError:\n",
    "    print(\"Введите целое число!\")\n"
   ]
  },
  {
   "cell_type": "markdown",
   "id": "81614de6",
   "metadata": {},
   "source": [
    "## Упражнение 2. Англиские гласные и согласные\n",
    "Разработайте программу, запрашивающую у пользователя букву латинского алфавита. Если введенная буква входит в следующий список ( a, e, i,o или u), необходимо вывести сообщение о том, что эта буква гласная.\n",
    "Если была введена буква y, программа должна написать, что эта буква может быть как гласной, так и согласной. Во всех других случаях должно выводиться сообщение о том, что введена согласная буква\n",
    "\n"
   ]
  },
  {
   "cell_type": "code",
   "execution_count": 20,
   "id": "1e482b46",
   "metadata": {},
   "outputs": [
    {
     "name": "stdout",
     "output_type": "stream",
     "text": [
      "Введите букву латинского алфавита: а\n",
      "Ошибка: Введите одну букву латинского алфавита.\n"
     ]
    }
   ],
   "source": [
    "def check_vowel_consonant(letter):\n",
    "    vowels = ['a', 'e', 'i', 'o', 'u']\n",
    "\n",
    "    if letter.lower() in vowels:\n",
    "        return \"Это буква является гласной.\"\n",
    "    elif letter.lower() == 'y':\n",
    "        return \"Эта буква может быть как гласной, так и согласной.\"\n",
    "    else:\n",
    "        return \"Это буква является согласной.\"\n",
    "\n",
    "try:\n",
    "    user_letter = input(\"Введите букву латинского алфавита: \")\n",
    "    \n",
    "    if len(user_letter) != 1 \n",
    "    \n",
    "    or not user_letter.isalpha() or not user_letter.isascii():\n",
    "        raise ValueError(\"Ошибка: Введите одну букву латинского алфавита.\")\n",
    "\n",
    "    result = check_vowel_consonant(user_letter)\n",
    "    print(result)\n",
    "except ValueError as ve:\n",
    "    print(str(ve))\n"
   ]
  },
  {
   "cell_type": "markdown",
   "id": "b9f4dd78",
   "metadata": {},
   "source": [
    "# Задание c использованием циклов"
   ]
  },
  {
   "cell_type": "markdown",
   "id": "b80748b0",
   "metadata": {},
   "source": [
    "## Упражнение 3 Таблица соотношения температур\n",
    "\n",
    "Напишите программу для вывода таблицы соотношения температур, выраженных в градусах Цельсия и Фаренгейта. В таблице должны размещаться все температуры между 0 и 100 градусами Цельсия, кратные 10. Дополните таблицу подходящими заголовками. Формулу для переводатемпературы из градусов Цельсия в градусы Фаренгейта можно легко найти на просторах интернета.\n",
    "'''\n"
   ]
  },
  {
   "cell_type": "code",
   "execution_count": 21,
   "id": "57ef7b75",
   "metadata": {},
   "outputs": [
    {
     "name": "stdout",
     "output_type": "stream",
     "text": [
      "Celsius    Fahrenheit\n",
      "--------------------\n",
      "0          32.00     \n",
      "10         50.00     \n",
      "20         68.00     \n",
      "30         86.00     \n",
      "40         104.00    \n",
      "50         122.00    \n",
      "60         140.00    \n",
      "70         158.00    \n",
      "80         176.00    \n",
      "90         194.00    \n",
      "100        212.00    \n"
     ]
    }
   ],
   "source": [
    "def celsius_to_fahrenheit(celsius):\n",
    "    return (celsius * 9/5) + 32\n",
    "\n",
    "def print_temperature_table():\n",
    "    print(\"{:<10} {:<10}\".format(\"Celsius\", \"Fahrenheit\"))\n",
    "    print(\"-\" * 20)\n",
    "    for celsius in range(0, 101, 10):\n",
    "        fahrenheit = celsius_to_fahrenheit(celsius)\n",
    "        print(\"{:<10} {:<10.2f}\".format(celsius, fahrenheit))\n",
    "\n",
    "print_temperature_table()\n"
   ]
  },
  {
   "cell_type": "markdown",
   "id": "7ddac016",
   "metadata": {},
   "source": [
    "\n",
    "## Упражнение 4. Простое число?\n",
    "Простое число представляет собой число, большее единицы, которое без\n",
    "остатка делится лишь на само себя и единицу. Напишите функцию для\n",
    "определения того, является ли введенное число простым. Возвращаемое\n",
    "значение должно быть либо True, либо False. В основной программе, как\n",
    "и ожидается, пользователь должен ввести целое число и получить ответ\n",
    "о том, является ли оно простым. Убедитесь, что основная программа небудет запускаться, если файл импортирован в другой файл в качестве\n",
    "модуля.\n",
    "'''"
   ]
  },
  {
   "cell_type": "code",
   "execution_count": 32,
   "id": "072dc701",
   "metadata": {},
   "outputs": [
    {
     "name": "stdout",
     "output_type": "stream",
     "text": [
      "Введите целое число: 17\n",
      "17 является простым числом.\n"
     ]
    }
   ],
   "source": [
    "def is_prime(num):\n",
    "    if num < 2:\n",
    "        return False\n",
    "    for i in range(2, int(num**0.5) + 1):\n",
    "        if num % i == 0:\n",
    "            return False\n",
    "    return True\n",
    "\n",
    "\n",
    "if __name__ == \"__main__\":\n",
    "    try:\n",
    "        user_input = int(input(\"Введите целое число: \"))\n",
    "        if is_prime(user_input):\n",
    "            print(f\"{user_input} является простым числом.\")\n",
    "        else:\n",
    "            print(f\"{user_input} не является простым числом.\")\n",
    "    except ValueError:\n",
    "        print(\"Ошибка: Введите целое число.\")\n"
   ]
  },
  {
   "cell_type": "markdown",
   "id": "78766eb9",
   "metadata": {},
   "source": [
    "# Упражнение 5. Подбрасываем монетку\n",
    "\n",
    "Какое минимальное количество раз вы должны подбросить монетку, что-бы три раза подряд выпал либо орел, либо решка? А какое максимальное количество попыток может для этого понадобиться? А в среднем? В данном упражнении мы выясним это, создав симулятор подбрасывания виртуальной монетки.\n",
    "Напишите программу, использующую для подброса монетки генера-\n",
    "тор случайных чисел Python. Монетка при этом должна быть правильной формы, что означает равную вероятность выпадения орла и решки. Под брасывать монетку необходимо до тех пор, пока три раза подряд не выпадет одно значение, вне зависимости от того, орел это будет или решка.\n",
    "Выводите на экран букву О всякий раз, когда выпадает орел, и Р – когда выпадает решка. При этом для одной симуляции бросков все выпавшие значения необходимо размещать на одной строке. Также необходимо известить пользователя о том, сколько попыток потребовалось, чтобы получить нужный результат.\n",
    "Программа должна выполнить десять симуляций и в конце представить среднее количество подбрасываний монетки, требуемое для достижения нужного нам результата. <br>\n",
    "Пример вывода программы показан ниже: <br>\n",
    "О Р Р Р (попыток: 4) <br>\n",
    "О О Р Р О Р О Р Р О О Р О Р Р О Р Р Р (попыток: 19) <br>\n",
    "Р Р Р (попыток: 3) <br>\n",
    "Р О О О (попыток: 4) <br>\n",
    "О О О (попыток: 3) <br>\n",
    "Р О Р Р О Р О О Р Р О О Р О Р О О О (попыток: 18) <br>\n",
    "О Р Р О О О (попыток: 6) <br>\n",
    "Р О Р Р Р (попыток: 5) <br>\n",
    "Р Р О Р Р О Р О Р О О О (попыток: 12) <br>\n",
    "Р О Р Р Р (попыток: 5) <br>\n",
    "Среднее количество попыток: 7,9<br>\n"
   ]
  },
  {
   "cell_type": "code",
   "execution_count": 33,
   "id": "d85fa9f7",
   "metadata": {},
   "outputs": [
    {
     "name": "stdout",
     "output_type": "stream",
     "text": [
      "ОРРОРООО (попыток: 8)\n",
      "ОРРОРРООО (попыток: 9)\n",
      "ОРРОРРР (попыток: 7)\n",
      "РРОРРР (попыток: 6)\n",
      "РРООО (попыток: 5)\n",
      "РРР (попыток: 3)\n",
      "ОРООРООРРР (попыток: 10)\n",
      "РООО (попыток: 4)\n",
      "ООРООО (попыток: 6)\n",
      "ООРРР (попыток: 5)\n",
      "Среднее количество попыток: 6.3\n"
     ]
    }
   ],
   "source": [
    "import random\n",
    "\n",
    "def simulate_coin_toss():\n",
    "    tosses = []  # Список подбрасываний (О - орел, Р - решка)\n",
    "    consecutive_count = 0  # Счетчик подряд выпавших одинаковых значений\n",
    "    attempts = 0  # Счетчик общего числа подбрасываний\n",
    "\n",
    "    while consecutive_count < 3:\n",
    "        toss = random.choice(['О', 'Р'])\n",
    "        tosses.append(toss)\n",
    "        attempts += 1\n",
    "\n",
    "        if len(tosses) >= 3 and all(toss == tosses[-1] for toss in tosses[-3:]):\n",
    "            consecutive_count = 3\n",
    "        else:\n",
    "            consecutive_count = 0\n",
    "\n",
    "    return ''.join(tosses), attempts\n",
    "\n",
    "total_attempts = 0\n",
    "\n",
    "for i in range(10):\n",
    "    result, attempts = simulate_coin_toss()\n",
    "    total_attempts += attempts\n",
    "    print(f'{result} (попыток: {attempts})')\n",
    "\n",
    "average_attempts = total_attempts / 10\n",
    "print(f'Среднее количество попыток: {average_attempts:.1f}')\n"
   ]
  },
  {
   "cell_type": "code",
   "execution_count": null,
   "id": "05e6721f",
   "metadata": {},
   "outputs": [],
   "source": []
  }
 ],
 "metadata": {
  "kernelspec": {
   "display_name": "Python 3 (ipykernel)",
   "language": "python",
   "name": "python3"
  },
  "language_info": {
   "codemirror_mode": {
    "name": "ipython",
    "version": 3
   },
   "file_extension": ".py",
   "mimetype": "text/x-python",
   "name": "python",
   "nbconvert_exporter": "python",
   "pygments_lexer": "ipython3",
   "version": "3.9.16"
  }
 },
 "nbformat": 4,
 "nbformat_minor": 5
}
